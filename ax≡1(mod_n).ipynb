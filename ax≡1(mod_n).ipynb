{
  "nbformat": 4,
  "nbformat_minor": 0,
  "metadata": {
    "colab": {
      "provenance": [],
      "authorship_tag": "ABX9TyOb58lqVbwFsMQrtDBL62NZ",
      "include_colab_link": true
    },
    "kernelspec": {
      "name": "python3",
      "display_name": "Python 3"
    },
    "language_info": {
      "name": "python"
    }
  },
  "cells": [
    {
      "cell_type": "markdown",
      "metadata": {
        "id": "view-in-github",
        "colab_type": "text"
      },
      "source": [
        "<a href=\"https://colab.research.google.com/github/shashanknr123/shashanknr123/blob/main/ax%E2%89%A11(mod_n).ipynb\" target=\"_parent\"><img src=\"https://colab.research.google.com/assets/colab-badge.svg\" alt=\"Open In Colab\"/></a>"
      ]
    },
    {
      "cell_type": "markdown",
      "source": [
        "ax≡1mod(n)"
      ],
      "metadata": {
        "id": "M4B590cmUiDx"
      }
    },
    {
      "cell_type": "code",
      "execution_count": 2,
      "metadata": {
        "id": "WyvImgaYT31b"
      },
      "outputs": [],
      "source": [
        "from functools import reduce \n",
        "class CI: \n",
        "    def __init__(self, c, m):\n",
        "        self.c = c%m\n",
        "        self.a = 1%m\n",
        "        self.m = m\n",
        "    def solve(self, x):\n",
        "        return (x*self.c)%self.m == self.a\n",
        "    \n",
        "def find(cil):\n",
        "    val = reduce(lambda acc, ci: acc*ci.m, cil, 1)+1\n",
        "    for x in range(0,val):\n",
        "        if reduce(lambda acc, ci: acc and ci.solve(x), cil, True):\n",
        "            return x"
      ]
    },
    {
      "cell_type": "code",
      "source": [
        "print(find([CI(5,29)]))"
      ],
      "metadata": {
        "colab": {
          "base_uri": "https://localhost:8080/"
        },
        "id": "a8Ud9OskUebn",
        "outputId": "480ad12d-6db8-43d6-913b-6e88de340e28"
      },
      "execution_count": 4,
      "outputs": [
        {
          "output_type": "stream",
          "name": "stdout",
          "text": [
            "6\n"
          ]
        }
      ]
    },
    {
      "cell_type": "code",
      "source": [
        "print(find([CI(12,29)]))"
      ],
      "metadata": {
        "colab": {
          "base_uri": "https://localhost:8080/"
        },
        "id": "Z75fpWF7UWUE",
        "outputId": "bcb451f8-3230-4423-d2cc-71586edaea79"
      },
      "execution_count": 3,
      "outputs": [
        {
          "output_type": "stream",
          "name": "stdout",
          "text": [
            "17\n"
          ]
        }
      ]
    }
  ]
}