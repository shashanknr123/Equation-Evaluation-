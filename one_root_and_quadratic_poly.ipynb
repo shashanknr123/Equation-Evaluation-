{
  "nbformat": 4,
  "nbformat_minor": 0,
  "metadata": {
    "colab": {
      "provenance": [],
      "authorship_tag": "ABX9TyOmQ8499v5RKy1AIIs/TN00",
      "include_colab_link": true
    },
    "kernelspec": {
      "name": "python3",
      "display_name": "Python 3"
    },
    "language_info": {
      "name": "python"
    }
  },
  "cells": [
    {
      "cell_type": "markdown",
      "metadata": {
        "id": "view-in-github",
        "colab_type": "text"
      },
      "source": [
        "<a href=\"https://colab.research.google.com/github/shashanknr123/shashanknr123/blob/main/one_root_and_quadratic_poly.ipynb\" target=\"_parent\"><img src=\"https://colab.research.google.com/assets/colab-badge.svg\" alt=\"Open In Colab\"/></a>"
      ]
    },
    {
      "cell_type": "code",
      "execution_count": 1,
      "metadata": {
        "colab": {
          "base_uri": "https://localhost:8080/"
        },
        "id": "VRjZoqudLo5L",
        "outputId": "72c9311e-f7e9-404d-d62f-b498b99f2e0c"
      },
      "outputs": [
        {
          "output_type": "stream",
          "name": "stdout",
          "text": [
            "enter the coefficent of x^3:1\n",
            "enter the coefficent of x^2:5\n",
            "enter the coefficent of x:5\n",
            "enter the coefficent of constant:1\n",
            "one of the root is: -1\n"
          ]
        }
      ],
      "source": [
        "a = int(input('enter the coefficent of x^3:'))\n",
        "b = int(input('enter the coefficent of x^2:'))\n",
        "c = int(input('enter the coefficent of x:'))\n",
        "d = int(input('enter the coefficent of constant:'))\n",
        "\n",
        "for i in range(-10,10):\n",
        "    res = a*(i)**3 + b*(i)**2 + c*(i) + d\n",
        "    if(res == 0):\n",
        "        print('one of the root is:',i)\n",
        "        "
      ]
    },
    {
      "cell_type": "code",
      "source": [
        "import numpy as np\n",
        "px = [a,b,c,d]\n",
        "r=[]\n",
        "gx= [1,1,0] \n",
        "rx = np.polydiv(px, gx) # x+1=0\n",
        "print(rx)\n",
        "print(rx[0][0],\"(\",rx[0][1],\",\",rx[1][0],\",\",rx[1][1],\")\")"
      ],
      "metadata": {
        "colab": {
          "base_uri": "https://localhost:8080/"
        },
        "id": "MXJbvr6jL_cP",
        "outputId": "43efd4f3-7bbc-444e-efb5-5b559f928997"
      },
      "execution_count": 2,
      "outputs": [
        {
          "output_type": "stream",
          "name": "stdout",
          "text": [
            "(array([1., 4.]), array([1., 1.]))\n",
            "1.0 ( 4.0 , 1.0 , 1.0 )\n"
          ]
        }
      ]
    }
  ]
}