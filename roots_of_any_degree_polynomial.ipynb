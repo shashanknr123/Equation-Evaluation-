{
  "nbformat": 4,
  "nbformat_minor": 0,
  "metadata": {
    "colab": {
      "provenance": [],
      "authorship_tag": "ABX9TyOITljAoQ3bER7buAbpzz4I",
      "include_colab_link": true
    },
    "kernelspec": {
      "name": "python3",
      "display_name": "Python 3"
    },
    "language_info": {
      "name": "python"
    }
  },
  "cells": [
    {
      "cell_type": "markdown",
      "metadata": {
        "id": "view-in-github",
        "colab_type": "text"
      },
      "source": [
        "<a href=\"https://colab.research.google.com/github/shashanknr123/shashanknr123/blob/main/roots_of_any_degree_polynomial.ipynb\" target=\"_parent\"><img src=\"https://colab.research.google.com/assets/colab-badge.svg\" alt=\"Open In Colab\"/></a>"
      ]
    },
    {
      "cell_type": "markdown",
      "source": [
        "program to find all roots from any degree polynomial"
      ],
      "metadata": {
        "id": "zU9r2RB6ScfU"
      }
    },
    {
      "cell_type": "code",
      "execution_count": 1,
      "metadata": {
        "colab": {
          "base_uri": "https://localhost:8080/"
        },
        "id": "U2VNdcoJR03n",
        "outputId": "f895625f-48c4-4626-c30c-deaed9406843"
      },
      "outputs": [
        {
          "output_type": "stream",
          "name": "stdout",
          "text": [
            "2\n",
            "1\n",
            "1\n",
            "1\n"
          ]
        }
      ],
      "source": [
        "import numpy as np\n",
        "coefficent = [1,5,9,7,2]\n",
        "root = np.roots(coefficent)\n",
        "for i in root:\n",
        "    i = abs(i)\n",
        "    print(round(i))"
      ]
    },
    {
      "cell_type": "code",
      "source": [
        "coefficent = [1,7,17,17,6]\n",
        "root = np.roots(coefficent)\n",
        "for i in root:\n",
        "    i = abs(i)\n",
        "    print(round(i))"
      ],
      "metadata": {
        "colab": {
          "base_uri": "https://localhost:8080/"
        },
        "id": "Eaou_qVcSIvR",
        "outputId": "eeaa9ac4-d4ba-4902-c796-1e60784e2f24"
      },
      "execution_count": 2,
      "outputs": [
        {
          "output_type": "stream",
          "name": "stdout",
          "text": [
            "3\n",
            "2\n",
            "1\n",
            "1\n"
          ]
        }
      ]
    }
  ]
}